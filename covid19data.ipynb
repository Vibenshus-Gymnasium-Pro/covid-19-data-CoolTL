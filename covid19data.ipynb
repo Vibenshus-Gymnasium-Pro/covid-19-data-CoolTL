{
 "cells": [
  {
   "cell_type": "markdown",
   "id": "33ab2df5-fea2-4654-89b7-2b85d1441cc4",
   "metadata": {},
   "source": [
    "# Analyse af COVID-19 data"
   ]
  },
  {
   "cell_type": "markdown",
   "id": "ead85977-fe6c-45f8-8f7b-bc9c57fab45a",
   "metadata": {},
   "source": [
    "## Del 1: indlæs data\n",
    "0. Importere `pandas` og brug pandas.read_csv(path) til at hente data direkte fra GitHub-linket.\n",
    "\n",
    "    (https://raw.githubusercontent.com/CSSEGISandData/COVID-19/master/csse_covid_19_data/csse_covid_19_daily_reports/05-26-2020.csv)"
   ]
  },
  {
   "cell_type": "code",
   "execution_count": 3,
   "id": "fbe98997-dc43-47bd-940e-bc743ac0c673",
   "metadata": {},
   "outputs": [],
   "source": [
    "import pandas as pd\n",
    "\n",
    "date = '05-26-2020'\n",
    "path = 'https://raw.githubusercontent.com/CSSEGISandData/COVID-19/master/csse_covid_19_data/csse_covid_19_daily_reports/05-26-2020.csv'\n",
    "\n",
    "df = pd.read_csv(path)"
   ]
  },
  {
   "cell_type": "markdown",
   "id": "1abc5964-6914-49c2-88cc-7af204fdd173",
   "metadata": {},
   "source": [
    "1. Skimmelæs doc for bibliotek [datetime](https://docs.python.org/3/library/datetime.html)\n",
    "2. Brug `datetime` til at specificere en dato.\n",
    "3. Konstruér fil-stien ud fra den dato og hente dataen.\n",
    "4. Brug `df.head()` og `df.info()` for at få overblik af dataframe. Find ud af, hvilke kolonner der findes (fx Country_Region, Confirmed, Deaths, Recovered)."
   ]
  },
  {
   "cell_type": "markdown",
   "id": "8200dcc6-db72-4099-b097-2343c328dbbd",
   "metadata": {},
   "source": [
    "## Del 2: datarensning\n",
    "\n",
    "Læs artiklen [Pythonic Data Cleaning With pandas and NumPy](https://realpython.com/python-data-cleaning-numpy-pandas/)\n",
    "Rense og konstruér dataframe `df`, der indholde kolonerne \"Country\", \"Latitude\", \"Longitude\", \"Confirmed\", \"Deaths\", \"Recovered\" og \"Active\". "
   ]
  },
  {
   "cell_type": "markdown",
   "id": "ed0d89a2-be6a-4416-b8f3-d9d76480666d",
   "metadata": {},
   "source": [
    "## Del 3: gruppér data\n",
    "1. Gruppér evt. efter \"Country\" og summér antal Confirmed og Deaths.\n",
    "2. Find de 10 lande med flest smittede den dag."
   ]
  },
  {
   "cell_type": "markdown",
   "id": "767c2ae3-5518-461d-bcbf-bafab49f934b",
   "metadata": {},
   "source": [
    "## Del 4: Visualisering\n",
    "Vælg noget plot eksampler fra [seaborn](https://seaborn.pydata.org/examples/index.html) og \n",
    "1. Lav et bar plot over de 10 lande med flest smittede.\n",
    "2. Lav et pie chart over fordelingen af dødsfald mellem de samme 10 lande."
   ]
  },
  {
   "cell_type": "markdown",
   "id": "6a44425d-7712-4650-83f5-ee9eeaa0aa61",
   "metadata": {},
   "source": [
    "## Ekstra udfordring: Kortvisualisering med Plotly\n",
    "**Plotly** er et Python-bibliotek til interaktive visualiseringer, der kan bruges direkte i Jupyter Notebooks, Python scripts eller integreres i webapps. Det kan lave alt fra simple linjediagrammer til avancerede 3D-grafer og kort.\n",
    "\n",
    "**Plotly Express** er en “hurtig” version af **Plotly**, der gør det nemt at lave grafer med få linjer kode. Det minder meget om seaborn eller pandas.plot, men med interaktivitet. \n",
    "\n",
    "Kig lidt ind i https://plotly.com/python/plotly-express/ og bruge `plotly.express.choropleth` til at lave et interaktivt verdenskort, hvor landene farves efter antallet af bekræftede COVID-19-tilfælde (eller dødsfald) på en given dato."
   ]
  }
 ],
 "metadata": {
  "kernelspec": {
   "display_name": "Python 3 (ipykernel)",
   "language": "python",
   "name": "python3"
  },
  "language_info": {
   "codemirror_mode": {
    "name": "ipython",
    "version": 3
   },
   "file_extension": ".py",
   "mimetype": "text/x-python",
   "name": "python",
   "nbconvert_exporter": "python",
   "pygments_lexer": "ipython3",
   "version": "3.12.3"
  }
 },
 "nbformat": 4,
 "nbformat_minor": 5
}
